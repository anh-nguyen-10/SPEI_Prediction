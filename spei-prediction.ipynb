{
 "cells": [
  {
   "cell_type": "code",
   "execution_count": 1,
   "metadata": {
    "_cell_guid": "b1076dfc-b9ad-4769-8c92-a6c4dae69d19",
    "_uuid": "8f2839f25d086af736a60e9eeb907d3b93b6e0e5",
    "execution": {
     "iopub.execute_input": "2025-02-03T14:21:37.397333Z",
     "iopub.status.busy": "2025-02-03T14:21:37.397000Z",
     "iopub.status.idle": "2025-02-03T14:21:41.493897Z",
     "shell.execute_reply": "2025-02-03T14:21:41.493077Z",
     "shell.execute_reply.started": "2025-02-03T14:21:37.397294Z"
    },
    "trusted": true
   },
   "outputs": [],
   "source": [
    "import numpy as np \n",
    "import pandas as pd\n",
    "import matplotlib.pyplot as plt\n",
    "from sklearn.preprocessing import MinMaxScaler\n",
    "from sklearn.model_selection import train_test_split\n",
    "from keras.models import Sequential\n",
    "from keras.layers import Input\n",
    "from keras.layers import LSTM\n",
    "from keras.layers import Dense\n",
    "from keras.layers import SimpleRNN\n",
    "from keras.layers import GRU\n",
    "from keras.optimizers import SGD\n",
    "from sklearn import metrics\n",
    "from sklearn.metrics import mean_squared_error"
   ]
  },
  {
   "cell_type": "code",
   "execution_count": 2,
   "metadata": {
    "execution": {
     "iopub.execute_input": "2025-02-03T14:21:41.496469Z",
     "iopub.status.busy": "2025-02-03T14:21:41.495934Z",
     "iopub.status.idle": "2025-02-03T14:21:41.511340Z",
     "shell.execute_reply": "2025-02-03T14:21:41.510179Z",
     "shell.execute_reply.started": "2025-02-03T14:21:41.496442Z"
    },
    "trusted": true
   },
   "outputs": [
    {
     "name": "stdout",
     "output_type": "stream",
     "text": [
      "/kaggle/input/spei-data/TVF_SPEI_data/Fredtvf1.csv\n",
      "/kaggle/input/spei-data/TVF_SPEI_data/Chartvf3.csv\n",
      "/kaggle/input/spei-data/TVF_SPEI_data/Fredtvf3.csv\n",
      "/kaggle/input/spei-data/TVF_SPEI_data/Chartvf12.csv\n",
      "/kaggle/input/spei-data/TVF_SPEI_data/Chartvf1.csv\n",
      "/kaggle/input/spei-data/TVF_SPEI_data/Chartvf6.csv\n",
      "/kaggle/input/spei-data/TVF_SPEI_data/Fredtvf12.csv\n",
      "/kaggle/input/spei-data/TVF_SPEI_data/Fredtvf6.csv\n"
     ]
    }
   ],
   "source": [
    "import os\n",
    "for dirname, _, filenames in os.walk('/kaggle/input'):\n",
    "    for filename in filenames:\n",
    "        print(os.path.join(dirname, filename))"
   ]
  },
  {
   "cell_type": "code",
   "execution_count": 3,
   "metadata": {
    "execution": {
     "iopub.execute_input": "2025-02-03T14:21:41.513412Z",
     "iopub.status.busy": "2025-02-03T14:21:41.513101Z",
     "iopub.status.idle": "2025-02-03T14:21:41.525158Z",
     "shell.execute_reply": "2025-02-03T14:21:41.523958Z",
     "shell.execute_reply.started": "2025-02-03T14:21:41.513386Z"
    },
    "trusted": true
   },
   "outputs": [],
   "source": [
    "def metric(observed, simulated):\n",
    "\n",
    "    numerator = np.sum((observed - np.mean(observed)) * (simulated - np.mean(simulated)))\n",
    "    denominator = np.sqrt(np.sum((observed - np.mean(observed)) ** 2) * np.sum((simulated - np.mean(simulated)) ** 2))\n",
    "\n",
    "    if denominator == 0:\n",
    "        r = 0\n",
    "    else:\n",
    "        r = numerator / denominator\n",
    "\n",
    "    rmse = np.sqrt(np.mean((observed - simulated) ** 2))\n",
    "\n",
    "    nse = 1 - np.sum((observed - simulated) ** 2) / np.sum((observed - np.mean(observed)) ** 2)\n",
    "\n",
    "    error = observed - simulated\n",
    "    u95 = 1.96 * np.std(error)\n",
    "\n",
    "    return {\n",
    "        \"R\": r,\n",
    "        \"RMSE\": rmse,\n",
    "        \"NSE\": nse,\n",
    "        \"U95%\": u95\n",
    "    }"
   ]
  },
  {
   "cell_type": "code",
   "execution_count": 4,
   "metadata": {
    "execution": {
     "iopub.execute_input": "2025-02-03T14:21:41.526377Z",
     "iopub.status.busy": "2025-02-03T14:21:41.526099Z",
     "iopub.status.idle": "2025-02-03T14:21:41.580235Z",
     "shell.execute_reply": "2025-02-03T14:21:41.579222Z",
     "shell.execute_reply.started": "2025-02-03T14:21:41.526351Z"
    },
    "trusted": true
   },
   "outputs": [
    {
     "data": {
      "text/html": [
       "<div>\n",
       "<style scoped>\n",
       "    .dataframe tbody tr th:only-of-type {\n",
       "        vertical-align: middle;\n",
       "    }\n",
       "\n",
       "    .dataframe tbody tr th {\n",
       "        vertical-align: top;\n",
       "    }\n",
       "\n",
       "    .dataframe thead th {\n",
       "        text-align: right;\n",
       "    }\n",
       "</style>\n",
       "<table border=\"1\" class=\"dataframe\">\n",
       "  <thead>\n",
       "    <tr style=\"text-align: right;\">\n",
       "      <th></th>\n",
       "      <th>IMF1(t-1)</th>\n",
       "      <th>IMF1(t-2)</th>\n",
       "      <th>IMF1(t-3)</th>\n",
       "      <th>IMF2(t-1)</th>\n",
       "      <th>IMF2(t-2)</th>\n",
       "      <th>IMF2(t-3)</th>\n",
       "      <th>IMF3(t-1)</th>\n",
       "      <th>IMF3(t-2)</th>\n",
       "      <th>IMF3(t-3)</th>\n",
       "      <th>IMF4(t-1)</th>\n",
       "      <th>...</th>\n",
       "      <th>IMF9(t-1)</th>\n",
       "      <th>IMF9(t-2)</th>\n",
       "      <th>IMF9(t-3)</th>\n",
       "      <th>IMF10(t-1)</th>\n",
       "      <th>IMF10(t-2)</th>\n",
       "      <th>IMF10(t-3)</th>\n",
       "      <th>IMF11(t-1)</th>\n",
       "      <th>IMF11(t-2)</th>\n",
       "      <th>IMF11(t-3)</th>\n",
       "      <th>Tar</th>\n",
       "    </tr>\n",
       "  </thead>\n",
       "  <tbody>\n",
       "    <tr>\n",
       "      <th>0</th>\n",
       "      <td>-0.377504</td>\n",
       "      <td>-0.232174</td>\n",
       "      <td>-0.151810</td>\n",
       "      <td>-0.116938</td>\n",
       "      <td>-0.114747</td>\n",
       "      <td>-0.093242</td>\n",
       "      <td>-0.078278</td>\n",
       "      <td>-0.053317</td>\n",
       "      <td>-0.048806</td>\n",
       "      <td>-0.014790</td>\n",
       "      <td>...</td>\n",
       "      <td>0.073770</td>\n",
       "      <td>0.088823</td>\n",
       "      <td>0.090561</td>\n",
       "      <td>0.091508</td>\n",
       "      <td>0.102224</td>\n",
       "      <td>0.170650</td>\n",
       "      <td>1.246865</td>\n",
       "      <td>1.289082</td>\n",
       "      <td>1.350828</td>\n",
       "      <td>2.464120</td>\n",
       "    </tr>\n",
       "    <tr>\n",
       "      <th>1</th>\n",
       "      <td>-0.232174</td>\n",
       "      <td>0.039947</td>\n",
       "      <td>0.091508</td>\n",
       "      <td>-0.101637</td>\n",
       "      <td>-0.116938</td>\n",
       "      <td>-0.114747</td>\n",
       "      <td>-0.058383</td>\n",
       "      <td>0.052979</td>\n",
       "      <td>0.051787</td>\n",
       "      <td>-0.006737</td>\n",
       "      <td>...</td>\n",
       "      <td>-0.152567</td>\n",
       "      <td>0.068049</td>\n",
       "      <td>-0.010272</td>\n",
       "      <td>0.073770</td>\n",
       "      <td>0.020569</td>\n",
       "      <td>0.090561</td>\n",
       "      <td>1.289082</td>\n",
       "      <td>1.350828</td>\n",
       "      <td>1.428907</td>\n",
       "      <td>2.252838</td>\n",
       "    </tr>\n",
       "    <tr>\n",
       "      <th>2</th>\n",
       "      <td>0.039947</td>\n",
       "      <td>0.295077</td>\n",
       "      <td>0.073770</td>\n",
       "      <td>-0.072515</td>\n",
       "      <td>-0.101637</td>\n",
       "      <td>-0.116938</td>\n",
       "      <td>0.047785</td>\n",
       "      <td>-0.050566</td>\n",
       "      <td>-0.053317</td>\n",
       "      <td>0.013250</td>\n",
       "      <td>...</td>\n",
       "      <td>0.054172</td>\n",
       "      <td>0.030193</td>\n",
       "      <td>-0.092194</td>\n",
       "      <td>-0.152567</td>\n",
       "      <td>-0.078278</td>\n",
       "      <td>-0.010272</td>\n",
       "      <td>1.350828</td>\n",
       "      <td>1.428907</td>\n",
       "      <td>1.519613</td>\n",
       "      <td>1.673735</td>\n",
       "    </tr>\n",
       "    <tr>\n",
       "      <th>3</th>\n",
       "      <td>0.295077</td>\n",
       "      <td>0.392288</td>\n",
       "      <td>-0.152567</td>\n",
       "      <td>-0.034578</td>\n",
       "      <td>-0.072515</td>\n",
       "      <td>-0.101637</td>\n",
       "      <td>0.081880</td>\n",
       "      <td>0.046120</td>\n",
       "      <td>0.052979</td>\n",
       "      <td>-0.002005</td>\n",
       "      <td>...</td>\n",
       "      <td>0.099274</td>\n",
       "      <td>-0.017334</td>\n",
       "      <td>-0.123231</td>\n",
       "      <td>0.054172</td>\n",
       "      <td>-0.058383</td>\n",
       "      <td>-0.092194</td>\n",
       "      <td>1.428907</td>\n",
       "      <td>1.519613</td>\n",
       "      <td>1.618881</td>\n",
       "      <td>1.618292</td>\n",
       "    </tr>\n",
       "    <tr>\n",
       "      <th>4</th>\n",
       "      <td>0.392288</td>\n",
       "      <td>0.273310</td>\n",
       "      <td>0.054172</td>\n",
       "      <td>0.006480</td>\n",
       "      <td>-0.034578</td>\n",
       "      <td>-0.072515</td>\n",
       "      <td>-0.008644</td>\n",
       "      <td>-0.039928</td>\n",
       "      <td>-0.050566</td>\n",
       "      <td>-0.011072</td>\n",
       "      <td>...</td>\n",
       "      <td>-0.123280</td>\n",
       "      <td>-0.065085</td>\n",
       "      <td>-0.093177</td>\n",
       "      <td>0.099274</td>\n",
       "      <td>0.047785</td>\n",
       "      <td>-0.123231</td>\n",
       "      <td>1.519613</td>\n",
       "      <td>1.618881</td>\n",
       "      <td>1.722426</td>\n",
       "      <td>1.798726</td>\n",
       "    </tr>\n",
       "    <tr>\n",
       "      <th>...</th>\n",
       "      <td>...</td>\n",
       "      <td>...</td>\n",
       "      <td>...</td>\n",
       "      <td>...</td>\n",
       "      <td>...</td>\n",
       "      <td>...</td>\n",
       "      <td>...</td>\n",
       "      <td>...</td>\n",
       "      <td>...</td>\n",
       "      <td>...</td>\n",
       "      <td>...</td>\n",
       "      <td>...</td>\n",
       "      <td>...</td>\n",
       "      <td>...</td>\n",
       "      <td>...</td>\n",
       "      <td>...</td>\n",
       "      <td>...</td>\n",
       "      <td>...</td>\n",
       "      <td>...</td>\n",
       "      <td>...</td>\n",
       "      <td>...</td>\n",
       "    </tr>\n",
       "    <tr>\n",
       "      <th>485</th>\n",
       "      <td>-0.091283</td>\n",
       "      <td>0.095501</td>\n",
       "      <td>0.006709</td>\n",
       "      <td>0.163021</td>\n",
       "      <td>0.193994</td>\n",
       "      <td>0.203169</td>\n",
       "      <td>-0.007519</td>\n",
       "      <td>-0.025600</td>\n",
       "      <td>-0.015719</td>\n",
       "      <td>0.026401</td>\n",
       "      <td>...</td>\n",
       "      <td>0.009563</td>\n",
       "      <td>0.133634</td>\n",
       "      <td>-0.075866</td>\n",
       "      <td>-0.010624</td>\n",
       "      <td>-0.039868</td>\n",
       "      <td>-0.100708</td>\n",
       "      <td>-1.672571</td>\n",
       "      <td>-1.557117</td>\n",
       "      <td>-1.424170</td>\n",
       "      <td>0.066663</td>\n",
       "    </tr>\n",
       "    <tr>\n",
       "      <th>486</th>\n",
       "      <td>0.095501</td>\n",
       "      <td>0.214910</td>\n",
       "      <td>-0.010624</td>\n",
       "      <td>0.113555</td>\n",
       "      <td>0.163021</td>\n",
       "      <td>0.193994</td>\n",
       "      <td>0.081543</td>\n",
       "      <td>0.042775</td>\n",
       "      <td>0.017331</td>\n",
       "      <td>0.035268</td>\n",
       "      <td>...</td>\n",
       "      <td>-0.002949</td>\n",
       "      <td>0.167597</td>\n",
       "      <td>-0.016726</td>\n",
       "      <td>0.009563</td>\n",
       "      <td>-0.081549</td>\n",
       "      <td>-0.075866</td>\n",
       "      <td>-1.557117</td>\n",
       "      <td>-1.424170</td>\n",
       "      <td>-1.279187</td>\n",
       "      <td>-0.074100</td>\n",
       "    </tr>\n",
       "    <tr>\n",
       "      <th>487</th>\n",
       "      <td>0.214910</td>\n",
       "      <td>0.183654</td>\n",
       "      <td>0.009563</td>\n",
       "      <td>0.050998</td>\n",
       "      <td>0.113555</td>\n",
       "      <td>0.163021</td>\n",
       "      <td>0.057093</td>\n",
       "      <td>-0.065909</td>\n",
       "      <td>-0.025600</td>\n",
       "      <td>-0.036280</td>\n",
       "      <td>...</td>\n",
       "      <td>-0.005608</td>\n",
       "      <td>0.178531</td>\n",
       "      <td>0.050680</td>\n",
       "      <td>-0.002949</td>\n",
       "      <td>-0.007519</td>\n",
       "      <td>-0.016726</td>\n",
       "      <td>-1.424170</td>\n",
       "      <td>-1.279187</td>\n",
       "      <td>-1.127821</td>\n",
       "      <td>0.145124</td>\n",
       "    </tr>\n",
       "    <tr>\n",
       "      <th>488</th>\n",
       "      <td>0.183654</td>\n",
       "      <td>0.028697</td>\n",
       "      <td>-0.002949</td>\n",
       "      <td>-0.017732</td>\n",
       "      <td>0.050998</td>\n",
       "      <td>0.113555</td>\n",
       "      <td>-0.052006</td>\n",
       "      <td>0.086685</td>\n",
       "      <td>0.042775</td>\n",
       "      <td>-0.036272</td>\n",
       "      <td>...</td>\n",
       "      <td>0.010311</td>\n",
       "      <td>0.164387</td>\n",
       "      <td>0.096416</td>\n",
       "      <td>-0.005608</td>\n",
       "      <td>0.081543</td>\n",
       "      <td>0.050680</td>\n",
       "      <td>-1.279187</td>\n",
       "      <td>-1.127821</td>\n",
       "      <td>-0.975636</td>\n",
       "      <td>0.264244</td>\n",
       "    </tr>\n",
       "    <tr>\n",
       "      <th>489</th>\n",
       "      <td>0.028697</td>\n",
       "      <td>-0.137646</td>\n",
       "      <td>-0.005608</td>\n",
       "      <td>-0.084961</td>\n",
       "      <td>-0.017732</td>\n",
       "      <td>0.050998</td>\n",
       "      <td>-0.091444</td>\n",
       "      <td>-0.093750</td>\n",
       "      <td>-0.065909</td>\n",
       "      <td>0.051709</td>\n",
       "      <td>...</td>\n",
       "      <td>-0.007799</td>\n",
       "      <td>0.126446</td>\n",
       "      <td>0.100059</td>\n",
       "      <td>0.010311</td>\n",
       "      <td>0.057093</td>\n",
       "      <td>0.096416</td>\n",
       "      <td>-1.127821</td>\n",
       "      <td>-0.975636</td>\n",
       "      <td>-0.827843</td>\n",
       "      <td>0.462408</td>\n",
       "    </tr>\n",
       "  </tbody>\n",
       "</table>\n",
       "<p>490 rows × 34 columns</p>\n",
       "</div>"
      ],
      "text/plain": [
       "     IMF1(t-1)  IMF1(t-2)  IMF1(t-3)  IMF2(t-1)  IMF2(t-2)  IMF2(t-3)  \\\n",
       "0    -0.377504  -0.232174  -0.151810  -0.116938  -0.114747  -0.093242   \n",
       "1    -0.232174   0.039947   0.091508  -0.101637  -0.116938  -0.114747   \n",
       "2     0.039947   0.295077   0.073770  -0.072515  -0.101637  -0.116938   \n",
       "3     0.295077   0.392288  -0.152567  -0.034578  -0.072515  -0.101637   \n",
       "4     0.392288   0.273310   0.054172   0.006480  -0.034578  -0.072515   \n",
       "..         ...        ...        ...        ...        ...        ...   \n",
       "485  -0.091283   0.095501   0.006709   0.163021   0.193994   0.203169   \n",
       "486   0.095501   0.214910  -0.010624   0.113555   0.163021   0.193994   \n",
       "487   0.214910   0.183654   0.009563   0.050998   0.113555   0.163021   \n",
       "488   0.183654   0.028697  -0.002949  -0.017732   0.050998   0.113555   \n",
       "489   0.028697  -0.137646  -0.005608  -0.084961  -0.017732   0.050998   \n",
       "\n",
       "     IMF3(t-1)  IMF3(t-2)  IMF3(t-3)  IMF4(t-1)  ...  IMF9(t-1)  IMF9(t-2)  \\\n",
       "0    -0.078278  -0.053317  -0.048806  -0.014790  ...   0.073770   0.088823   \n",
       "1    -0.058383   0.052979   0.051787  -0.006737  ...  -0.152567   0.068049   \n",
       "2     0.047785  -0.050566  -0.053317   0.013250  ...   0.054172   0.030193   \n",
       "3     0.081880   0.046120   0.052979  -0.002005  ...   0.099274  -0.017334   \n",
       "4    -0.008644  -0.039928  -0.050566  -0.011072  ...  -0.123280  -0.065085   \n",
       "..         ...        ...        ...        ...  ...        ...        ...   \n",
       "485  -0.007519  -0.025600  -0.015719   0.026401  ...   0.009563   0.133634   \n",
       "486   0.081543   0.042775   0.017331   0.035268  ...  -0.002949   0.167597   \n",
       "487   0.057093  -0.065909  -0.025600  -0.036280  ...  -0.005608   0.178531   \n",
       "488  -0.052006   0.086685   0.042775  -0.036272  ...   0.010311   0.164387   \n",
       "489  -0.091444  -0.093750  -0.065909   0.051709  ...  -0.007799   0.126446   \n",
       "\n",
       "     IMF9(t-3)  IMF10(t-1)  IMF10(t-2)  IMF10(t-3)  IMF11(t-1)  IMF11(t-2)  \\\n",
       "0     0.090561    0.091508    0.102224    0.170650    1.246865    1.289082   \n",
       "1    -0.010272    0.073770    0.020569    0.090561    1.289082    1.350828   \n",
       "2    -0.092194   -0.152567   -0.078278   -0.010272    1.350828    1.428907   \n",
       "3    -0.123231    0.054172   -0.058383   -0.092194    1.428907    1.519613   \n",
       "4    -0.093177    0.099274    0.047785   -0.123231    1.519613    1.618881   \n",
       "..         ...         ...         ...         ...         ...         ...   \n",
       "485  -0.075866   -0.010624   -0.039868   -0.100708   -1.672571   -1.557117   \n",
       "486  -0.016726    0.009563   -0.081549   -0.075866   -1.557117   -1.424170   \n",
       "487   0.050680   -0.002949   -0.007519   -0.016726   -1.424170   -1.279187   \n",
       "488   0.096416   -0.005608    0.081543    0.050680   -1.279187   -1.127821   \n",
       "489   0.100059    0.010311    0.057093    0.096416   -1.127821   -0.975636   \n",
       "\n",
       "     IMF11(t-3)       Tar  \n",
       "0      1.350828  2.464120  \n",
       "1      1.428907  2.252838  \n",
       "2      1.519613  1.673735  \n",
       "3      1.618881  1.618292  \n",
       "4      1.722426  1.798726  \n",
       "..          ...       ...  \n",
       "485   -1.424170  0.066663  \n",
       "486   -1.279187 -0.074100  \n",
       "487   -1.127821  0.145124  \n",
       "488   -0.975636  0.264244  \n",
       "489   -0.827843  0.462408  \n",
       "\n",
       "[490 rows x 34 columns]"
      ]
     },
     "execution_count": 4,
     "metadata": {},
     "output_type": "execute_result"
    }
   ],
   "source": [
    "df = pd.read_csv('/kaggle/input/spei-data/TVF_SPEI_data/Fredtvf12.csv')\n",
    "df"
   ]
  },
  {
   "cell_type": "code",
   "execution_count": 5,
   "metadata": {
    "execution": {
     "iopub.execute_input": "2025-02-03T14:21:41.581475Z",
     "iopub.status.busy": "2025-02-03T14:21:41.581188Z",
     "iopub.status.idle": "2025-02-03T14:21:41.591260Z",
     "shell.execute_reply": "2025-02-03T14:21:41.590105Z",
     "shell.execute_reply.started": "2025-02-03T14:21:41.581447Z"
    },
    "trusted": true
   },
   "outputs": [],
   "source": [
    "scaler = MinMaxScaler(feature_range=(0,1))\n",
    "scaled_df = scaler.fit_transform(df)"
   ]
  },
  {
   "cell_type": "code",
   "execution_count": 6,
   "metadata": {
    "execution": {
     "iopub.execute_input": "2025-02-03T14:21:41.592709Z",
     "iopub.status.busy": "2025-02-03T14:21:41.592405Z",
     "iopub.status.idle": "2025-02-03T14:21:41.610632Z",
     "shell.execute_reply": "2025-02-03T14:21:41.609470Z",
     "shell.execute_reply.started": "2025-02-03T14:21:41.592684Z"
    },
    "trusted": true
   },
   "outputs": [],
   "source": [
    "X = df.drop('Tar', axis=1).values\n",
    "y = df['Tar'].values"
   ]
  },
  {
   "cell_type": "code",
   "execution_count": 7,
   "metadata": {
    "execution": {
     "iopub.execute_input": "2025-02-03T14:21:41.612138Z",
     "iopub.status.busy": "2025-02-03T14:21:41.611806Z",
     "iopub.status.idle": "2025-02-03T14:21:41.638020Z",
     "shell.execute_reply": "2025-02-03T14:21:41.636780Z",
     "shell.execute_reply.started": "2025-02-03T14:21:41.612109Z"
    },
    "trusted": true
   },
   "outputs": [],
   "source": [
    "lookback_window = 20\n",
    "\n",
    "def to_sequences(X, y, lookback_window):\n",
    "    X_seq, y_seq = [], []\n",
    "    for i in range(lookback_window, len(X)):\n",
    "        X_seq.append(X[i - lookback_window:i])\n",
    "        y_seq.append(y[i])\n",
    "    return np.array(X_seq), np.array(y_seq)\n",
    "\n",
    "X_seq, y_seq = to_sequences(X, y, lookback_window)"
   ]
  },
  {
   "cell_type": "code",
   "execution_count": 8,
   "metadata": {
    "execution": {
     "iopub.execute_input": "2025-02-03T14:21:41.641803Z",
     "iopub.status.busy": "2025-02-03T14:21:41.641407Z",
     "iopub.status.idle": "2025-02-03T14:21:41.660331Z",
     "shell.execute_reply": "2025-02-03T14:21:41.659085Z",
     "shell.execute_reply.started": "2025-02-03T14:21:41.641770Z"
    },
    "trusted": true
   },
   "outputs": [],
   "source": [
    "X_train, X_test, y_train, y_test = train_test_split(X_seq, y_seq, test_size=0.2, random_state=42)"
   ]
  },
  {
   "cell_type": "code",
   "execution_count": 9,
   "metadata": {
    "execution": {
     "iopub.execute_input": "2025-02-03T14:21:41.662494Z",
     "iopub.status.busy": "2025-02-03T14:21:41.662185Z",
     "iopub.status.idle": "2025-02-03T14:21:41.674506Z",
     "shell.execute_reply": "2025-02-03T14:21:41.673205Z",
     "shell.execute_reply.started": "2025-02-03T14:21:41.662468Z"
    },
    "trusted": true
   },
   "outputs": [
    {
     "name": "stdout",
     "output_type": "stream",
     "text": [
      "X_train : (376, 20, 33) y_train : (376,)\n"
     ]
    }
   ],
   "source": [
    "print(\"X_train :\",X_train.shape,\"y_train :\",y_train.shape)"
   ]
  },
  {
   "cell_type": "code",
   "execution_count": 10,
   "metadata": {
    "execution": {
     "iopub.execute_input": "2025-02-03T14:21:41.676136Z",
     "iopub.status.busy": "2025-02-03T14:21:41.675724Z",
     "iopub.status.idle": "2025-02-03T14:22:04.844532Z",
     "shell.execute_reply": "2025-02-03T14:22:04.843484Z",
     "shell.execute_reply.started": "2025-02-03T14:21:41.676096Z"
    },
    "trusted": true
   },
   "outputs": [
    {
     "name": "stdout",
     "output_type": "stream",
     "text": [
      "Epoch 1/30\n",
      "\u001b[1m47/47\u001b[0m \u001b[32m━━━━━━━━━━━━━━━━━━━━\u001b[0m\u001b[37m\u001b[0m \u001b[1m4s\u001b[0m 14ms/step - loss: 0.8582\n",
      "Epoch 2/30\n",
      "\u001b[1m47/47\u001b[0m \u001b[32m━━━━━━━━━━━━━━━━━━━━\u001b[0m\u001b[37m\u001b[0m \u001b[1m1s\u001b[0m 14ms/step - loss: 0.8126\n",
      "Epoch 3/30\n",
      "\u001b[1m47/47\u001b[0m \u001b[32m━━━━━━━━━━━━━━━━━━━━\u001b[0m\u001b[37m\u001b[0m \u001b[1m1s\u001b[0m 13ms/step - loss: 0.9248\n",
      "Epoch 4/30\n",
      "\u001b[1m47/47\u001b[0m \u001b[32m━━━━━━━━━━━━━━━━━━━━\u001b[0m\u001b[37m\u001b[0m \u001b[1m1s\u001b[0m 12ms/step - loss: 0.9001\n",
      "Epoch 5/30\n",
      "\u001b[1m47/47\u001b[0m \u001b[32m━━━━━━━━━━━━━━━━━━━━\u001b[0m\u001b[37m\u001b[0m \u001b[1m1s\u001b[0m 12ms/step - loss: 0.7727\n",
      "Epoch 6/30\n",
      "\u001b[1m47/47\u001b[0m \u001b[32m━━━━━━━━━━━━━━━━━━━━\u001b[0m\u001b[37m\u001b[0m \u001b[1m1s\u001b[0m 12ms/step - loss: 0.8816\n",
      "Epoch 7/30\n",
      "\u001b[1m47/47\u001b[0m \u001b[32m━━━━━━━━━━━━━━━━━━━━\u001b[0m\u001b[37m\u001b[0m \u001b[1m1s\u001b[0m 12ms/step - loss: 0.7770\n",
      "Epoch 8/30\n",
      "\u001b[1m47/47\u001b[0m \u001b[32m━━━━━━━━━━━━━━━━━━━━\u001b[0m\u001b[37m\u001b[0m \u001b[1m1s\u001b[0m 12ms/step - loss: 0.8288\n",
      "Epoch 9/30\n",
      "\u001b[1m47/47\u001b[0m \u001b[32m━━━━━━━━━━━━━━━━━━━━\u001b[0m\u001b[37m\u001b[0m \u001b[1m1s\u001b[0m 13ms/step - loss: 0.8793\n",
      "Epoch 10/30\n",
      "\u001b[1m47/47\u001b[0m \u001b[32m━━━━━━━━━━━━━━━━━━━━\u001b[0m\u001b[37m\u001b[0m \u001b[1m1s\u001b[0m 13ms/step - loss: 0.7654\n",
      "Epoch 11/30\n",
      "\u001b[1m47/47\u001b[0m \u001b[32m━━━━━━━━━━━━━━━━━━━━\u001b[0m\u001b[37m\u001b[0m \u001b[1m1s\u001b[0m 12ms/step - loss: 0.8812\n",
      "Epoch 12/30\n",
      "\u001b[1m47/47\u001b[0m \u001b[32m━━━━━━━━━━━━━━━━━━━━\u001b[0m\u001b[37m\u001b[0m \u001b[1m1s\u001b[0m 12ms/step - loss: 0.8133\n",
      "Epoch 13/30\n",
      "\u001b[1m47/47\u001b[0m \u001b[32m━━━━━━━━━━━━━━━━━━━━\u001b[0m\u001b[37m\u001b[0m \u001b[1m1s\u001b[0m 13ms/step - loss: 0.8670\n",
      "Epoch 14/30\n",
      "\u001b[1m47/47\u001b[0m \u001b[32m━━━━━━━━━━━━━━━━━━━━\u001b[0m\u001b[37m\u001b[0m \u001b[1m1s\u001b[0m 14ms/step - loss: 0.8662\n",
      "Epoch 15/30\n",
      "\u001b[1m47/47\u001b[0m \u001b[32m━━━━━━━━━━━━━━━━━━━━\u001b[0m\u001b[37m\u001b[0m \u001b[1m1s\u001b[0m 13ms/step - loss: 0.7678\n",
      "Epoch 16/30\n",
      "\u001b[1m47/47\u001b[0m \u001b[32m━━━━━━━━━━━━━━━━━━━━\u001b[0m\u001b[37m\u001b[0m \u001b[1m1s\u001b[0m 13ms/step - loss: 0.8800\n",
      "Epoch 17/30\n",
      "\u001b[1m47/47\u001b[0m \u001b[32m━━━━━━━━━━━━━━━━━━━━\u001b[0m\u001b[37m\u001b[0m \u001b[1m1s\u001b[0m 13ms/step - loss: 0.8367\n",
      "Epoch 18/30\n",
      "\u001b[1m47/47\u001b[0m \u001b[32m━━━━━━━━━━━━━━━━━━━━\u001b[0m\u001b[37m\u001b[0m \u001b[1m1s\u001b[0m 14ms/step - loss: 0.8989\n",
      "Epoch 19/30\n",
      "\u001b[1m47/47\u001b[0m \u001b[32m━━━━━━━━━━━━━━━━━━━━\u001b[0m\u001b[37m\u001b[0m \u001b[1m1s\u001b[0m 13ms/step - loss: 0.8012\n",
      "Epoch 20/30\n",
      "\u001b[1m47/47\u001b[0m \u001b[32m━━━━━━━━━━━━━━━━━━━━\u001b[0m\u001b[37m\u001b[0m \u001b[1m1s\u001b[0m 13ms/step - loss: 0.8035\n",
      "Epoch 21/30\n",
      "\u001b[1m47/47\u001b[0m \u001b[32m━━━━━━━━━━━━━━━━━━━━\u001b[0m\u001b[37m\u001b[0m \u001b[1m1s\u001b[0m 15ms/step - loss: 0.8771\n",
      "Epoch 22/30\n",
      "\u001b[1m47/47\u001b[0m \u001b[32m━━━━━━━━━━━━━━━━━━━━\u001b[0m\u001b[37m\u001b[0m \u001b[1m1s\u001b[0m 15ms/step - loss: 0.8461\n",
      "Epoch 23/30\n",
      "\u001b[1m47/47\u001b[0m \u001b[32m━━━━━━━━━━━━━━━━━━━━\u001b[0m\u001b[37m\u001b[0m \u001b[1m1s\u001b[0m 16ms/step - loss: 0.7875\n",
      "Epoch 24/30\n",
      "\u001b[1m47/47\u001b[0m \u001b[32m━━━━━━━━━━━━━━━━━━━━\u001b[0m\u001b[37m\u001b[0m \u001b[1m1s\u001b[0m 15ms/step - loss: 0.9064\n",
      "Epoch 25/30\n",
      "\u001b[1m47/47\u001b[0m \u001b[32m━━━━━━━━━━━━━━━━━━━━\u001b[0m\u001b[37m\u001b[0m \u001b[1m1s\u001b[0m 15ms/step - loss: 0.8500\n",
      "Epoch 26/30\n",
      "\u001b[1m47/47\u001b[0m \u001b[32m━━━━━━━━━━━━━━━━━━━━\u001b[0m\u001b[37m\u001b[0m \u001b[1m1s\u001b[0m 13ms/step - loss: 0.7974\n",
      "Epoch 27/30\n",
      "\u001b[1m47/47\u001b[0m \u001b[32m━━━━━━━━━━━━━━━━━━━━\u001b[0m\u001b[37m\u001b[0m \u001b[1m1s\u001b[0m 12ms/step - loss: 0.8024\n",
      "Epoch 28/30\n",
      "\u001b[1m47/47\u001b[0m \u001b[32m━━━━━━━━━━━━━━━━━━━━\u001b[0m\u001b[37m\u001b[0m \u001b[1m1s\u001b[0m 13ms/step - loss: 0.7453\n",
      "Epoch 29/30\n",
      "\u001b[1m47/47\u001b[0m \u001b[32m━━━━━━━━━━━━━━━━━━━━\u001b[0m\u001b[37m\u001b[0m \u001b[1m1s\u001b[0m 12ms/step - loss: 0.7543\n",
      "Epoch 30/30\n",
      "\u001b[1m47/47\u001b[0m \u001b[32m━━━━━━━━━━━━━━━━━━━━\u001b[0m\u001b[37m\u001b[0m \u001b[1m1s\u001b[0m 13ms/step - loss: 0.7594\n"
     ]
    },
    {
     "data": {
      "text/html": [
       "<pre style=\"white-space:pre;overflow-x:auto;line-height:normal;font-family:Menlo,'DejaVu Sans Mono',consolas,'Courier New',monospace\"><span style=\"font-weight: bold\">Model: \"sequential\"</span>\n",
       "</pre>\n"
      ],
      "text/plain": [
       "\u001b[1mModel: \"sequential\"\u001b[0m\n"
      ]
     },
     "metadata": {},
     "output_type": "display_data"
    },
    {
     "data": {
      "text/html": [
       "<pre style=\"white-space:pre;overflow-x:auto;line-height:normal;font-family:Menlo,'DejaVu Sans Mono',consolas,'Courier New',monospace\">┏━━━━━━━━━━━━━━━━━━━━━━━━━━━━━━━━━━━━━━┳━━━━━━━━━━━━━━━━━━━━━━━━━━━━━┳━━━━━━━━━━━━━━━━━┓\n",
       "┃<span style=\"font-weight: bold\"> Layer (type)                         </span>┃<span style=\"font-weight: bold\"> Output Shape                </span>┃<span style=\"font-weight: bold\">         Param # </span>┃\n",
       "┡━━━━━━━━━━━━━━━━━━━━━━━━━━━━━━━━━━━━━━╇━━━━━━━━━━━━━━━━━━━━━━━━━━━━━╇━━━━━━━━━━━━━━━━━┩\n",
       "│ simple_rnn (<span style=\"color: #0087ff; text-decoration-color: #0087ff\">SimpleRNN</span>)               │ (<span style=\"color: #00d7ff; text-decoration-color: #00d7ff\">None</span>, <span style=\"color: #00af00; text-decoration-color: #00af00\">20</span>, <span style=\"color: #00af00; text-decoration-color: #00af00\">64</span>)              │           <span style=\"color: #00af00; text-decoration-color: #00af00\">6,272</span> │\n",
       "├──────────────────────────────────────┼─────────────────────────────┼─────────────────┤\n",
       "│ simple_rnn_1 (<span style=\"color: #0087ff; text-decoration-color: #0087ff\">SimpleRNN</span>)             │ (<span style=\"color: #00d7ff; text-decoration-color: #00d7ff\">None</span>, <span style=\"color: #00af00; text-decoration-color: #00af00\">20</span>, <span style=\"color: #00af00; text-decoration-color: #00af00\">64</span>)              │           <span style=\"color: #00af00; text-decoration-color: #00af00\">8,256</span> │\n",
       "├──────────────────────────────────────┼─────────────────────────────┼─────────────────┤\n",
       "│ simple_rnn_2 (<span style=\"color: #0087ff; text-decoration-color: #0087ff\">SimpleRNN</span>)             │ (<span style=\"color: #00d7ff; text-decoration-color: #00d7ff\">None</span>, <span style=\"color: #00af00; text-decoration-color: #00af00\">20</span>, <span style=\"color: #00af00; text-decoration-color: #00af00\">64</span>)              │           <span style=\"color: #00af00; text-decoration-color: #00af00\">8,256</span> │\n",
       "├──────────────────────────────────────┼─────────────────────────────┼─────────────────┤\n",
       "│ simple_rnn_3 (<span style=\"color: #0087ff; text-decoration-color: #0087ff\">SimpleRNN</span>)             │ (<span style=\"color: #00d7ff; text-decoration-color: #00d7ff\">None</span>, <span style=\"color: #00af00; text-decoration-color: #00af00\">64</span>)                  │           <span style=\"color: #00af00; text-decoration-color: #00af00\">8,256</span> │\n",
       "├──────────────────────────────────────┼─────────────────────────────┼─────────────────┤\n",
       "│ dense (<span style=\"color: #0087ff; text-decoration-color: #0087ff\">Dense</span>)                        │ (<span style=\"color: #00d7ff; text-decoration-color: #00d7ff\">None</span>, <span style=\"color: #00af00; text-decoration-color: #00af00\">1</span>)                   │              <span style=\"color: #00af00; text-decoration-color: #00af00\">65</span> │\n",
       "└──────────────────────────────────────┴─────────────────────────────┴─────────────────┘\n",
       "</pre>\n"
      ],
      "text/plain": [
       "┏━━━━━━━━━━━━━━━━━━━━━━━━━━━━━━━━━━━━━━┳━━━━━━━━━━━━━━━━━━━━━━━━━━━━━┳━━━━━━━━━━━━━━━━━┓\n",
       "┃\u001b[1m \u001b[0m\u001b[1mLayer (type)                        \u001b[0m\u001b[1m \u001b[0m┃\u001b[1m \u001b[0m\u001b[1mOutput Shape               \u001b[0m\u001b[1m \u001b[0m┃\u001b[1m \u001b[0m\u001b[1m        Param #\u001b[0m\u001b[1m \u001b[0m┃\n",
       "┡━━━━━━━━━━━━━━━━━━━━━━━━━━━━━━━━━━━━━━╇━━━━━━━━━━━━━━━━━━━━━━━━━━━━━╇━━━━━━━━━━━━━━━━━┩\n",
       "│ simple_rnn (\u001b[38;5;33mSimpleRNN\u001b[0m)               │ (\u001b[38;5;45mNone\u001b[0m, \u001b[38;5;34m20\u001b[0m, \u001b[38;5;34m64\u001b[0m)              │           \u001b[38;5;34m6,272\u001b[0m │\n",
       "├──────────────────────────────────────┼─────────────────────────────┼─────────────────┤\n",
       "│ simple_rnn_1 (\u001b[38;5;33mSimpleRNN\u001b[0m)             │ (\u001b[38;5;45mNone\u001b[0m, \u001b[38;5;34m20\u001b[0m, \u001b[38;5;34m64\u001b[0m)              │           \u001b[38;5;34m8,256\u001b[0m │\n",
       "├──────────────────────────────────────┼─────────────────────────────┼─────────────────┤\n",
       "│ simple_rnn_2 (\u001b[38;5;33mSimpleRNN\u001b[0m)             │ (\u001b[38;5;45mNone\u001b[0m, \u001b[38;5;34m20\u001b[0m, \u001b[38;5;34m64\u001b[0m)              │           \u001b[38;5;34m8,256\u001b[0m │\n",
       "├──────────────────────────────────────┼─────────────────────────────┼─────────────────┤\n",
       "│ simple_rnn_3 (\u001b[38;5;33mSimpleRNN\u001b[0m)             │ (\u001b[38;5;45mNone\u001b[0m, \u001b[38;5;34m64\u001b[0m)                  │           \u001b[38;5;34m8,256\u001b[0m │\n",
       "├──────────────────────────────────────┼─────────────────────────────┼─────────────────┤\n",
       "│ dense (\u001b[38;5;33mDense\u001b[0m)                        │ (\u001b[38;5;45mNone\u001b[0m, \u001b[38;5;34m1\u001b[0m)                   │              \u001b[38;5;34m65\u001b[0m │\n",
       "└──────────────────────────────────────┴─────────────────────────────┴─────────────────┘\n"
      ]
     },
     "metadata": {},
     "output_type": "display_data"
    },
    {
     "data": {
      "text/html": [
       "<pre style=\"white-space:pre;overflow-x:auto;line-height:normal;font-family:Menlo,'DejaVu Sans Mono',consolas,'Courier New',monospace\"><span style=\"font-weight: bold\"> Total params: </span><span style=\"color: #00af00; text-decoration-color: #00af00\">62,212</span> (243.02 KB)\n",
       "</pre>\n"
      ],
      "text/plain": [
       "\u001b[1m Total params: \u001b[0m\u001b[38;5;34m62,212\u001b[0m (243.02 KB)\n"
      ]
     },
     "metadata": {},
     "output_type": "display_data"
    },
    {
     "data": {
      "text/html": [
       "<pre style=\"white-space:pre;overflow-x:auto;line-height:normal;font-family:Menlo,'DejaVu Sans Mono',consolas,'Courier New',monospace\"><span style=\"font-weight: bold\"> Trainable params: </span><span style=\"color: #00af00; text-decoration-color: #00af00\">31,105</span> (121.50 KB)\n",
       "</pre>\n"
      ],
      "text/plain": [
       "\u001b[1m Trainable params: \u001b[0m\u001b[38;5;34m31,105\u001b[0m (121.50 KB)\n"
      ]
     },
     "metadata": {},
     "output_type": "display_data"
    },
    {
     "data": {
      "text/html": [
       "<pre style=\"white-space:pre;overflow-x:auto;line-height:normal;font-family:Menlo,'DejaVu Sans Mono',consolas,'Courier New',monospace\"><span style=\"font-weight: bold\"> Non-trainable params: </span><span style=\"color: #00af00; text-decoration-color: #00af00\">0</span> (0.00 B)\n",
       "</pre>\n"
      ],
      "text/plain": [
       "\u001b[1m Non-trainable params: \u001b[0m\u001b[38;5;34m0\u001b[0m (0.00 B)\n"
      ]
     },
     "metadata": {},
     "output_type": "display_data"
    },
    {
     "data": {
      "text/html": [
       "<pre style=\"white-space:pre;overflow-x:auto;line-height:normal;font-family:Menlo,'DejaVu Sans Mono',consolas,'Courier New',monospace\"><span style=\"font-weight: bold\"> Optimizer params: </span><span style=\"color: #00af00; text-decoration-color: #00af00\">31,107</span> (121.52 KB)\n",
       "</pre>\n"
      ],
      "text/plain": [
       "\u001b[1m Optimizer params: \u001b[0m\u001b[38;5;34m31,107\u001b[0m (121.52 KB)\n"
      ]
     },
     "metadata": {},
     "output_type": "display_data"
    }
   ],
   "source": [
    "def rnnModel(input_shapes):\n",
    "    model = Sequential()\n",
    "    model.add(Input(input_shapes))\n",
    "\n",
    "    model.add(SimpleRNN(units = 64, \n",
    "                            activation = \"tanh\",\n",
    "                            return_sequences = True))\n",
    "    \n",
    "    model.add(SimpleRNN(units = 64, \n",
    "                            activation = \"tanh\",\n",
    "                            return_sequences = True))\n",
    "    \n",
    "    model.add(SimpleRNN(units = 64,\n",
    "                            activation = \"tanh\",\n",
    "                            return_sequences = True))\n",
    "    model.add( SimpleRNN(units = 64))\n",
    "    \n",
    "    model.add(Dense(units = 1,activation='sigmoid'))\n",
    "    \n",
    "    model.compile(optimizer = SGD(learning_rate=0.01,\n",
    "                                      momentum=0.9), \n",
    "                      loss = \"mean_squared_error\")\n",
    "    return model\n",
    "\n",
    "\n",
    "model = rnnModel(input_shapes=(X_train.shape[1], X_train.shape[2]))\n",
    "model.fit(X_train, y_train, epochs = 30, batch_size = 8)\n",
    "model.summary()"
   ]
  },
  {
   "cell_type": "code",
   "execution_count": 11,
   "metadata": {
    "execution": {
     "iopub.execute_input": "2025-02-03T14:22:04.845791Z",
     "iopub.status.busy": "2025-02-03T14:22:04.845511Z",
     "iopub.status.idle": "2025-02-03T14:22:05.804811Z",
     "shell.execute_reply": "2025-02-03T14:22:05.803703Z",
     "shell.execute_reply.started": "2025-02-03T14:22:04.845768Z"
    },
    "trusted": true
   },
   "outputs": [
    {
     "name": "stdout",
     "output_type": "stream",
     "text": [
      "\u001b[1m3/3\u001b[0m \u001b[32m━━━━━━━━━━━━━━━━━━━━\u001b[0m\u001b[37m\u001b[0m \u001b[1m1s\u001b[0m 223ms/step\n",
      "{'R': 0.1480523830425509, 'RMSE': 0.9844444990321636, 'NSE': -0.009176985489971035, 'U95%': 1.9200794325891297}\n"
     ]
    }
   ],
   "source": [
    "y_pred_rnn = model.predict(X_test)\n",
    "y_true = y_test.flatten()\n",
    "y_pred_rnn = y_pred_rnn.flatten()\n",
    "\n",
    "\n",
    "results = metric(y_true, y_pred_rnn)\n",
    "print(results)"
   ]
  },
  {
   "cell_type": "code",
   "execution_count": 12,
   "metadata": {
    "execution": {
     "iopub.execute_input": "2025-02-03T14:22:05.806230Z",
     "iopub.status.busy": "2025-02-03T14:22:05.805844Z",
     "iopub.status.idle": "2025-02-03T14:22:33.361961Z",
     "shell.execute_reply": "2025-02-03T14:22:33.360959Z",
     "shell.execute_reply.started": "2025-02-03T14:22:05.806194Z"
    },
    "trusted": true
   },
   "outputs": [
    {
     "name": "stdout",
     "output_type": "stream",
     "text": [
      "Epoch 1/30\n",
      "\u001b[1m47/47\u001b[0m \u001b[32m━━━━━━━━━━━━━━━━━━━━\u001b[0m\u001b[37m\u001b[0m \u001b[1m3s\u001b[0m 17ms/step - loss: 0.9180\n",
      "Epoch 2/30\n",
      "\u001b[1m47/47\u001b[0m \u001b[32m━━━━━━━━━━━━━━━━━━━━\u001b[0m\u001b[37m\u001b[0m \u001b[1m1s\u001b[0m 17ms/step - loss: 0.8244\n",
      "Epoch 3/30\n",
      "\u001b[1m47/47\u001b[0m \u001b[32m━━━━━━━━━━━━━━━━━━━━\u001b[0m\u001b[37m\u001b[0m \u001b[1m1s\u001b[0m 17ms/step - loss: 0.7848\n",
      "Epoch 4/30\n",
      "\u001b[1m47/47\u001b[0m \u001b[32m━━━━━━━━━━━━━━━━━━━━\u001b[0m\u001b[37m\u001b[0m \u001b[1m1s\u001b[0m 17ms/step - loss: 0.8194\n",
      "Epoch 5/30\n",
      "\u001b[1m47/47\u001b[0m \u001b[32m━━━━━━━━━━━━━━━━━━━━\u001b[0m\u001b[37m\u001b[0m \u001b[1m1s\u001b[0m 16ms/step - loss: 0.7832\n",
      "Epoch 6/30\n",
      "\u001b[1m47/47\u001b[0m \u001b[32m━━━━━━━━━━━━━━━━━━━━\u001b[0m\u001b[37m\u001b[0m \u001b[1m1s\u001b[0m 17ms/step - loss: 0.8224\n",
      "Epoch 7/30\n",
      "\u001b[1m47/47\u001b[0m \u001b[32m━━━━━━━━━━━━━━━━━━━━\u001b[0m\u001b[37m\u001b[0m \u001b[1m1s\u001b[0m 17ms/step - loss: 0.8256\n",
      "Epoch 8/30\n",
      "\u001b[1m47/47\u001b[0m \u001b[32m━━━━━━━━━━━━━━━━━━━━\u001b[0m\u001b[37m\u001b[0m \u001b[1m1s\u001b[0m 17ms/step - loss: 0.7772\n",
      "Epoch 9/30\n",
      "\u001b[1m47/47\u001b[0m \u001b[32m━━━━━━━━━━━━━━━━━━━━\u001b[0m\u001b[37m\u001b[0m \u001b[1m1s\u001b[0m 18ms/step - loss: 0.8841\n",
      "Epoch 10/30\n",
      "\u001b[1m47/47\u001b[0m \u001b[32m━━━━━━━━━━━━━━━━━━━━\u001b[0m\u001b[37m\u001b[0m \u001b[1m1s\u001b[0m 19ms/step - loss: 0.8454\n",
      "Epoch 11/30\n",
      "\u001b[1m47/47\u001b[0m \u001b[32m━━━━━━━━━━━━━━━━━━━━\u001b[0m\u001b[37m\u001b[0m \u001b[1m1s\u001b[0m 17ms/step - loss: 0.8271\n",
      "Epoch 12/30\n",
      "\u001b[1m47/47\u001b[0m \u001b[32m━━━━━━━━━━━━━━━━━━━━\u001b[0m\u001b[37m\u001b[0m \u001b[1m1s\u001b[0m 16ms/step - loss: 0.8076\n",
      "Epoch 13/30\n",
      "\u001b[1m47/47\u001b[0m \u001b[32m━━━━━━━━━━━━━━━━━━━━\u001b[0m\u001b[37m\u001b[0m \u001b[1m1s\u001b[0m 16ms/step - loss: 0.8198\n",
      "Epoch 14/30\n",
      "\u001b[1m47/47\u001b[0m \u001b[32m━━━━━━━━━━━━━━━━━━━━\u001b[0m\u001b[37m\u001b[0m \u001b[1m1s\u001b[0m 17ms/step - loss: 0.7446\n",
      "Epoch 15/30\n",
      "\u001b[1m47/47\u001b[0m \u001b[32m━━━━━━━━━━━━━━━━━━━━\u001b[0m\u001b[37m\u001b[0m \u001b[1m1s\u001b[0m 17ms/step - loss: 0.8217\n",
      "Epoch 16/30\n",
      "\u001b[1m47/47\u001b[0m \u001b[32m━━━━━━━━━━━━━━━━━━━━\u001b[0m\u001b[37m\u001b[0m \u001b[1m1s\u001b[0m 17ms/step - loss: 0.8521\n",
      "Epoch 17/30\n",
      "\u001b[1m47/47\u001b[0m \u001b[32m━━━━━━━━━━━━━━━━━━━━\u001b[0m\u001b[37m\u001b[0m \u001b[1m1s\u001b[0m 17ms/step - loss: 0.8117\n",
      "Epoch 18/30\n",
      "\u001b[1m47/47\u001b[0m \u001b[32m━━━━━━━━━━━━━━━━━━━━\u001b[0m\u001b[37m\u001b[0m \u001b[1m1s\u001b[0m 18ms/step - loss: 0.8574\n",
      "Epoch 19/30\n",
      "\u001b[1m47/47\u001b[0m \u001b[32m━━━━━━━━━━━━━━━━━━━━\u001b[0m\u001b[37m\u001b[0m \u001b[1m1s\u001b[0m 18ms/step - loss: 0.7684\n",
      "Epoch 20/30\n",
      "\u001b[1m47/47\u001b[0m \u001b[32m━━━━━━━━━━━━━━━━━━━━\u001b[0m\u001b[37m\u001b[0m \u001b[1m1s\u001b[0m 17ms/step - loss: 0.8683\n",
      "Epoch 21/30\n",
      "\u001b[1m47/47\u001b[0m \u001b[32m━━━━━━━━━━━━━━━━━━━━\u001b[0m\u001b[37m\u001b[0m \u001b[1m1s\u001b[0m 17ms/step - loss: 0.7776\n",
      "Epoch 22/30\n",
      "\u001b[1m47/47\u001b[0m \u001b[32m━━━━━━━━━━━━━━━━━━━━\u001b[0m\u001b[37m\u001b[0m \u001b[1m1s\u001b[0m 17ms/step - loss: 0.7481\n",
      "Epoch 23/30\n",
      "\u001b[1m47/47\u001b[0m \u001b[32m━━━━━━━━━━━━━━━━━━━━\u001b[0m\u001b[37m\u001b[0m \u001b[1m1s\u001b[0m 17ms/step - loss: 0.8007\n",
      "Epoch 24/30\n",
      "\u001b[1m47/47\u001b[0m \u001b[32m━━━━━━━━━━━━━━━━━━━━\u001b[0m\u001b[37m\u001b[0m \u001b[1m1s\u001b[0m 17ms/step - loss: 0.9057\n",
      "Epoch 25/30\n",
      "\u001b[1m47/47\u001b[0m \u001b[32m━━━━━━━━━━━━━━━━━━━━\u001b[0m\u001b[37m\u001b[0m \u001b[1m1s\u001b[0m 17ms/step - loss: 0.7749\n",
      "Epoch 26/30\n",
      "\u001b[1m47/47\u001b[0m \u001b[32m━━━━━━━━━━━━━━━━━━━━\u001b[0m\u001b[37m\u001b[0m \u001b[1m1s\u001b[0m 17ms/step - loss: 0.7940\n",
      "Epoch 27/30\n",
      "\u001b[1m47/47\u001b[0m \u001b[32m━━━━━━━━━━━━━━━━━━━━\u001b[0m\u001b[37m\u001b[0m \u001b[1m1s\u001b[0m 16ms/step - loss: 0.7743\n",
      "Epoch 28/30\n",
      "\u001b[1m47/47\u001b[0m \u001b[32m━━━━━━━━━━━━━━━━━━━━\u001b[0m\u001b[37m\u001b[0m \u001b[1m1s\u001b[0m 17ms/step - loss: 0.7982\n",
      "Epoch 29/30\n",
      "\u001b[1m47/47\u001b[0m \u001b[32m━━━━━━━━━━━━━━━━━━━━\u001b[0m\u001b[37m\u001b[0m \u001b[1m1s\u001b[0m 17ms/step - loss: 0.7541\n",
      "Epoch 30/30\n",
      "\u001b[1m47/47\u001b[0m \u001b[32m━━━━━━━━━━━━━━━━━━━━\u001b[0m\u001b[37m\u001b[0m \u001b[1m1s\u001b[0m 19ms/step - loss: 0.8122\n"
     ]
    },
    {
     "data": {
      "text/html": [
       "<pre style=\"white-space:pre;overflow-x:auto;line-height:normal;font-family:Menlo,'DejaVu Sans Mono',consolas,'Courier New',monospace\"><span style=\"font-weight: bold\">Model: \"sequential_1\"</span>\n",
       "</pre>\n"
      ],
      "text/plain": [
       "\u001b[1mModel: \"sequential_1\"\u001b[0m\n"
      ]
     },
     "metadata": {},
     "output_type": "display_data"
    },
    {
     "data": {
      "text/html": [
       "<pre style=\"white-space:pre;overflow-x:auto;line-height:normal;font-family:Menlo,'DejaVu Sans Mono',consolas,'Courier New',monospace\">┏━━━━━━━━━━━━━━━━━━━━━━━━━━━━━━━━━━━━━━┳━━━━━━━━━━━━━━━━━━━━━━━━━━━━━┳━━━━━━━━━━━━━━━━━┓\n",
       "┃<span style=\"font-weight: bold\"> Layer (type)                         </span>┃<span style=\"font-weight: bold\"> Output Shape                </span>┃<span style=\"font-weight: bold\">         Param # </span>┃\n",
       "┡━━━━━━━━━━━━━━━━━━━━━━━━━━━━━━━━━━━━━━╇━━━━━━━━━━━━━━━━━━━━━━━━━━━━━╇━━━━━━━━━━━━━━━━━┩\n",
       "│ gru (<span style=\"color: #0087ff; text-decoration-color: #0087ff\">GRU</span>)                            │ (<span style=\"color: #00d7ff; text-decoration-color: #00d7ff\">None</span>, <span style=\"color: #00af00; text-decoration-color: #00af00\">20</span>, <span style=\"color: #00af00; text-decoration-color: #00af00\">128</span>)             │          <span style=\"color: #00af00; text-decoration-color: #00af00\">62,592</span> │\n",
       "├──────────────────────────────────────┼─────────────────────────────┼─────────────────┤\n",
       "│ gru_1 (<span style=\"color: #0087ff; text-decoration-color: #0087ff\">GRU</span>)                          │ (<span style=\"color: #00d7ff; text-decoration-color: #00d7ff\">None</span>, <span style=\"color: #00af00; text-decoration-color: #00af00\">128</span>)                 │          <span style=\"color: #00af00; text-decoration-color: #00af00\">99,072</span> │\n",
       "├──────────────────────────────────────┼─────────────────────────────┼─────────────────┤\n",
       "│ dense_1 (<span style=\"color: #0087ff; text-decoration-color: #0087ff\">Dense</span>)                      │ (<span style=\"color: #00d7ff; text-decoration-color: #00d7ff\">None</span>, <span style=\"color: #00af00; text-decoration-color: #00af00\">1</span>)                   │             <span style=\"color: #00af00; text-decoration-color: #00af00\">129</span> │\n",
       "└──────────────────────────────────────┴─────────────────────────────┴─────────────────┘\n",
       "</pre>\n"
      ],
      "text/plain": [
       "┏━━━━━━━━━━━━━━━━━━━━━━━━━━━━━━━━━━━━━━┳━━━━━━━━━━━━━━━━━━━━━━━━━━━━━┳━━━━━━━━━━━━━━━━━┓\n",
       "┃\u001b[1m \u001b[0m\u001b[1mLayer (type)                        \u001b[0m\u001b[1m \u001b[0m┃\u001b[1m \u001b[0m\u001b[1mOutput Shape               \u001b[0m\u001b[1m \u001b[0m┃\u001b[1m \u001b[0m\u001b[1m        Param #\u001b[0m\u001b[1m \u001b[0m┃\n",
       "┡━━━━━━━━━━━━━━━━━━━━━━━━━━━━━━━━━━━━━━╇━━━━━━━━━━━━━━━━━━━━━━━━━━━━━╇━━━━━━━━━━━━━━━━━┩\n",
       "│ gru (\u001b[38;5;33mGRU\u001b[0m)                            │ (\u001b[38;5;45mNone\u001b[0m, \u001b[38;5;34m20\u001b[0m, \u001b[38;5;34m128\u001b[0m)             │          \u001b[38;5;34m62,592\u001b[0m │\n",
       "├──────────────────────────────────────┼─────────────────────────────┼─────────────────┤\n",
       "│ gru_1 (\u001b[38;5;33mGRU\u001b[0m)                          │ (\u001b[38;5;45mNone\u001b[0m, \u001b[38;5;34m128\u001b[0m)                 │          \u001b[38;5;34m99,072\u001b[0m │\n",
       "├──────────────────────────────────────┼─────────────────────────────┼─────────────────┤\n",
       "│ dense_1 (\u001b[38;5;33mDense\u001b[0m)                      │ (\u001b[38;5;45mNone\u001b[0m, \u001b[38;5;34m1\u001b[0m)                   │             \u001b[38;5;34m129\u001b[0m │\n",
       "└──────────────────────────────────────┴─────────────────────────────┴─────────────────┘\n"
      ]
     },
     "metadata": {},
     "output_type": "display_data"
    },
    {
     "data": {
      "text/html": [
       "<pre style=\"white-space:pre;overflow-x:auto;line-height:normal;font-family:Menlo,'DejaVu Sans Mono',consolas,'Courier New',monospace\"><span style=\"font-weight: bold\"> Total params: </span><span style=\"color: #00af00; text-decoration-color: #00af00\">323,588</span> (1.23 MB)\n",
       "</pre>\n"
      ],
      "text/plain": [
       "\u001b[1m Total params: \u001b[0m\u001b[38;5;34m323,588\u001b[0m (1.23 MB)\n"
      ]
     },
     "metadata": {},
     "output_type": "display_data"
    },
    {
     "data": {
      "text/html": [
       "<pre style=\"white-space:pre;overflow-x:auto;line-height:normal;font-family:Menlo,'DejaVu Sans Mono',consolas,'Courier New',monospace\"><span style=\"font-weight: bold\"> Trainable params: </span><span style=\"color: #00af00; text-decoration-color: #00af00\">161,793</span> (632.00 KB)\n",
       "</pre>\n"
      ],
      "text/plain": [
       "\u001b[1m Trainable params: \u001b[0m\u001b[38;5;34m161,793\u001b[0m (632.00 KB)\n"
      ]
     },
     "metadata": {},
     "output_type": "display_data"
    },
    {
     "data": {
      "text/html": [
       "<pre style=\"white-space:pre;overflow-x:auto;line-height:normal;font-family:Menlo,'DejaVu Sans Mono',consolas,'Courier New',monospace\"><span style=\"font-weight: bold\"> Non-trainable params: </span><span style=\"color: #00af00; text-decoration-color: #00af00\">0</span> (0.00 B)\n",
       "</pre>\n"
      ],
      "text/plain": [
       "\u001b[1m Non-trainable params: \u001b[0m\u001b[38;5;34m0\u001b[0m (0.00 B)\n"
      ]
     },
     "metadata": {},
     "output_type": "display_data"
    },
    {
     "data": {
      "text/html": [
       "<pre style=\"white-space:pre;overflow-x:auto;line-height:normal;font-family:Menlo,'DejaVu Sans Mono',consolas,'Courier New',monospace\"><span style=\"font-weight: bold\"> Optimizer params: </span><span style=\"color: #00af00; text-decoration-color: #00af00\">161,795</span> (632.02 KB)\n",
       "</pre>\n"
      ],
      "text/plain": [
       "\u001b[1m Optimizer params: \u001b[0m\u001b[38;5;34m161,795\u001b[0m (632.02 KB)\n"
      ]
     },
     "metadata": {},
     "output_type": "display_data"
    }
   ],
   "source": [
    "def gruModel(input_shapes):\n",
    "    model = Sequential()\n",
    "    model.add(Input(input_shapes))\n",
    "\n",
    "    model.add(GRU(units=128, \n",
    "                         return_sequences=True,\n",
    "                         activation='tanh'))\n",
    "    \n",
    "    model.add(GRU(units=128, \n",
    "                         activation='tanh'))\n",
    "    \n",
    "    model.add(Dense(units=1,\n",
    "                           activation='relu'))\n",
    "    \n",
    "    model.compile(optimizer = SGD(learning_rate=0.001,\n",
    "                                      momentum=0.9), \n",
    "                      loss = \"mean_squared_error\")\n",
    "    return model\n",
    "\n",
    "\n",
    "model = gruModel(input_shapes=(X_train.shape[1], X_train.shape[2]))\n",
    "model.fit(X_train, y_train, epochs = 30, batch_size = 8)\n",
    "model.summary()"
   ]
  },
  {
   "cell_type": "code",
   "execution_count": 13,
   "metadata": {
    "execution": {
     "iopub.execute_input": "2025-02-03T14:22:33.363291Z",
     "iopub.status.busy": "2025-02-03T14:22:33.362989Z",
     "iopub.status.idle": "2025-02-03T14:22:34.125945Z",
     "shell.execute_reply": "2025-02-03T14:22:34.124602Z",
     "shell.execute_reply.started": "2025-02-03T14:22:33.363264Z"
    },
    "trusted": true
   },
   "outputs": [
    {
     "name": "stdout",
     "output_type": "stream",
     "text": [
      "\u001b[1m3/3\u001b[0m \u001b[32m━━━━━━━━━━━━━━━━━━━━\u001b[0m\u001b[37m\u001b[0m \u001b[1m1s\u001b[0m 178ms/step\n",
      "{'R': 0.15126114007962888, 'RMSE': 0.9793560760000813, 'NSE': 0.0012285744988795866, 'U95%': 1.903198107016243}\n"
     ]
    }
   ],
   "source": [
    "y_pred_gru = model.predict(X_test)\n",
    "y_pred_gru = y_pred_gru.flatten()\n",
    "results = metric(y_true, y_pred_gru)\n",
    "print(results)"
   ]
  },
  {
   "cell_type": "code",
   "execution_count": 14,
   "metadata": {
    "execution": {
     "iopub.execute_input": "2025-02-03T14:22:34.127215Z",
     "iopub.status.busy": "2025-02-03T14:22:34.126928Z",
     "iopub.status.idle": "2025-02-03T14:22:54.309768Z",
     "shell.execute_reply": "2025-02-03T14:22:54.308711Z",
     "shell.execute_reply.started": "2025-02-03T14:22:34.127192Z"
    },
    "trusted": true
   },
   "outputs": [
    {
     "name": "stdout",
     "output_type": "stream",
     "text": [
      "Epoch 1/30\n",
      "\u001b[1m47/47\u001b[0m \u001b[32m━━━━━━━━━━━━━━━━━━━━\u001b[0m\u001b[37m\u001b[0m \u001b[1m3s\u001b[0m 12ms/step - loss: 0.8841\n",
      "Epoch 2/30\n",
      "\u001b[1m47/47\u001b[0m \u001b[32m━━━━━━━━━━━━━━━━━━━━\u001b[0m\u001b[37m\u001b[0m \u001b[1m1s\u001b[0m 12ms/step - loss: 0.7446\n",
      "Epoch 3/30\n",
      "\u001b[1m47/47\u001b[0m \u001b[32m━━━━━━━━━━━━━━━━━━━━\u001b[0m\u001b[37m\u001b[0m \u001b[1m1s\u001b[0m 13ms/step - loss: 0.7718\n",
      "Epoch 4/30\n",
      "\u001b[1m47/47\u001b[0m \u001b[32m━━━━━━━━━━━━━━━━━━━━\u001b[0m\u001b[37m\u001b[0m \u001b[1m1s\u001b[0m 13ms/step - loss: 0.7996\n",
      "Epoch 5/30\n",
      "\u001b[1m47/47\u001b[0m \u001b[32m━━━━━━━━━━━━━━━━━━━━\u001b[0m\u001b[37m\u001b[0m \u001b[1m1s\u001b[0m 12ms/step - loss: 0.7400\n",
      "Epoch 6/30\n",
      "\u001b[1m47/47\u001b[0m \u001b[32m━━━━━━━━━━━━━━━━━━━━\u001b[0m\u001b[37m\u001b[0m \u001b[1m1s\u001b[0m 13ms/step - loss: 0.6365\n",
      "Epoch 7/30\n",
      "\u001b[1m47/47\u001b[0m \u001b[32m━━━━━━━━━━━━━━━━━━━━\u001b[0m\u001b[37m\u001b[0m \u001b[1m1s\u001b[0m 12ms/step - loss: 0.6687\n",
      "Epoch 8/30\n",
      "\u001b[1m47/47\u001b[0m \u001b[32m━━━━━━━━━━━━━━━━━━━━\u001b[0m\u001b[37m\u001b[0m \u001b[1m1s\u001b[0m 12ms/step - loss: 0.7345\n",
      "Epoch 9/30\n",
      "\u001b[1m47/47\u001b[0m \u001b[32m━━━━━━━━━━━━━━━━━━━━\u001b[0m\u001b[37m\u001b[0m \u001b[1m1s\u001b[0m 12ms/step - loss: 0.6626\n",
      "Epoch 10/30\n",
      "\u001b[1m47/47\u001b[0m \u001b[32m━━━━━━━━━━━━━━━━━━━━\u001b[0m\u001b[37m\u001b[0m \u001b[1m1s\u001b[0m 12ms/step - loss: 0.7277\n",
      "Epoch 11/30\n",
      "\u001b[1m47/47\u001b[0m \u001b[32m━━━━━━━━━━━━━━━━━━━━\u001b[0m\u001b[37m\u001b[0m \u001b[1m1s\u001b[0m 13ms/step - loss: 0.5789\n",
      "Epoch 12/30\n",
      "\u001b[1m47/47\u001b[0m \u001b[32m━━━━━━━━━━━━━━━━━━━━\u001b[0m\u001b[37m\u001b[0m \u001b[1m1s\u001b[0m 13ms/step - loss: 0.6601\n",
      "Epoch 13/30\n",
      "\u001b[1m47/47\u001b[0m \u001b[32m━━━━━━━━━━━━━━━━━━━━\u001b[0m\u001b[37m\u001b[0m \u001b[1m1s\u001b[0m 13ms/step - loss: 0.5875\n",
      "Epoch 14/30\n",
      "\u001b[1m47/47\u001b[0m \u001b[32m━━━━━━━━━━━━━━━━━━━━\u001b[0m\u001b[37m\u001b[0m \u001b[1m1s\u001b[0m 13ms/step - loss: 0.6447\n",
      "Epoch 15/30\n",
      "\u001b[1m47/47\u001b[0m \u001b[32m━━━━━━━━━━━━━━━━━━━━\u001b[0m\u001b[37m\u001b[0m \u001b[1m1s\u001b[0m 13ms/step - loss: 0.5746\n",
      "Epoch 16/30\n",
      "\u001b[1m47/47\u001b[0m \u001b[32m━━━━━━━━━━━━━━━━━━━━\u001b[0m\u001b[37m\u001b[0m \u001b[1m1s\u001b[0m 13ms/step - loss: 0.5757\n",
      "Epoch 17/30\n",
      "\u001b[1m47/47\u001b[0m \u001b[32m━━━━━━━━━━━━━━━━━━━━\u001b[0m\u001b[37m\u001b[0m \u001b[1m1s\u001b[0m 12ms/step - loss: 0.5659\n",
      "Epoch 18/30\n",
      "\u001b[1m47/47\u001b[0m \u001b[32m━━━━━━━━━━━━━━━━━━━━\u001b[0m\u001b[37m\u001b[0m \u001b[1m1s\u001b[0m 12ms/step - loss: 0.5068\n",
      "Epoch 19/30\n",
      "\u001b[1m47/47\u001b[0m \u001b[32m━━━━━━━━━━━━━━━━━━━━\u001b[0m\u001b[37m\u001b[0m \u001b[1m1s\u001b[0m 12ms/step - loss: 0.5904\n",
      "Epoch 20/30\n",
      "\u001b[1m47/47\u001b[0m \u001b[32m━━━━━━━━━━━━━━━━━━━━\u001b[0m\u001b[37m\u001b[0m \u001b[1m1s\u001b[0m 12ms/step - loss: 0.5034\n",
      "Epoch 21/30\n",
      "\u001b[1m47/47\u001b[0m \u001b[32m━━━━━━━━━━━━━━━━━━━━\u001b[0m\u001b[37m\u001b[0m \u001b[1m1s\u001b[0m 11ms/step - loss: 0.5299\n",
      "Epoch 22/30\n",
      "\u001b[1m47/47\u001b[0m \u001b[32m━━━━━━━━━━━━━━━━━━━━\u001b[0m\u001b[37m\u001b[0m \u001b[1m1s\u001b[0m 12ms/step - loss: 0.4744\n",
      "Epoch 23/30\n",
      "\u001b[1m47/47\u001b[0m \u001b[32m━━━━━━━━━━━━━━━━━━━━\u001b[0m\u001b[37m\u001b[0m \u001b[1m1s\u001b[0m 12ms/step - loss: 0.4630\n",
      "Epoch 24/30\n",
      "\u001b[1m47/47\u001b[0m \u001b[32m━━━━━━━━━━━━━━━━━━━━\u001b[0m\u001b[37m\u001b[0m \u001b[1m1s\u001b[0m 12ms/step - loss: 0.6637\n",
      "Epoch 25/30\n",
      "\u001b[1m47/47\u001b[0m \u001b[32m━━━━━━━━━━━━━━━━━━━━\u001b[0m\u001b[37m\u001b[0m \u001b[1m1s\u001b[0m 12ms/step - loss: 0.5426\n",
      "Epoch 26/30\n",
      "\u001b[1m47/47\u001b[0m \u001b[32m━━━━━━━━━━━━━━━━━━━━\u001b[0m\u001b[37m\u001b[0m \u001b[1m1s\u001b[0m 11ms/step - loss: 0.3963\n",
      "Epoch 27/30\n",
      "\u001b[1m47/47\u001b[0m \u001b[32m━━━━━━━━━━━━━━━━━━━━\u001b[0m\u001b[37m\u001b[0m \u001b[1m1s\u001b[0m 12ms/step - loss: 0.3663\n",
      "Epoch 28/30\n",
      "\u001b[1m47/47\u001b[0m \u001b[32m━━━━━━━━━━━━━━━━━━━━\u001b[0m\u001b[37m\u001b[0m \u001b[1m1s\u001b[0m 12ms/step - loss: 0.4632\n",
      "Epoch 29/30\n",
      "\u001b[1m47/47\u001b[0m \u001b[32m━━━━━━━━━━━━━━━━━━━━\u001b[0m\u001b[37m\u001b[0m \u001b[1m1s\u001b[0m 12ms/step - loss: 0.3245\n",
      "Epoch 30/30\n",
      "\u001b[1m47/47\u001b[0m \u001b[32m━━━━━━━━━━━━━━━━━━━━\u001b[0m\u001b[37m\u001b[0m \u001b[1m1s\u001b[0m 13ms/step - loss: 0.3105\n"
     ]
    },
    {
     "data": {
      "text/html": [
       "<pre style=\"white-space:pre;overflow-x:auto;line-height:normal;font-family:Menlo,'DejaVu Sans Mono',consolas,'Courier New',monospace\"><span style=\"font-weight: bold\">Model: \"sequential_2\"</span>\n",
       "</pre>\n"
      ],
      "text/plain": [
       "\u001b[1mModel: \"sequential_2\"\u001b[0m\n"
      ]
     },
     "metadata": {},
     "output_type": "display_data"
    },
    {
     "data": {
      "text/html": [
       "<pre style=\"white-space:pre;overflow-x:auto;line-height:normal;font-family:Menlo,'DejaVu Sans Mono',consolas,'Courier New',monospace\">┏━━━━━━━━━━━━━━━━━━━━━━━━━━━━━━━━━━━━━━┳━━━━━━━━━━━━━━━━━━━━━━━━━━━━━┳━━━━━━━━━━━━━━━━━┓\n",
       "┃<span style=\"font-weight: bold\"> Layer (type)                         </span>┃<span style=\"font-weight: bold\"> Output Shape                </span>┃<span style=\"font-weight: bold\">         Param # </span>┃\n",
       "┡━━━━━━━━━━━━━━━━━━━━━━━━━━━━━━━━━━━━━━╇━━━━━━━━━━━━━━━━━━━━━━━━━━━━━╇━━━━━━━━━━━━━━━━━┩\n",
       "│ lstm (<span style=\"color: #0087ff; text-decoration-color: #0087ff\">LSTM</span>)                          │ (<span style=\"color: #00d7ff; text-decoration-color: #00d7ff\">None</span>, <span style=\"color: #00af00; text-decoration-color: #00af00\">20</span>, <span style=\"color: #00af00; text-decoration-color: #00af00\">64</span>)              │          <span style=\"color: #00af00; text-decoration-color: #00af00\">25,088</span> │\n",
       "├──────────────────────────────────────┼─────────────────────────────┼─────────────────┤\n",
       "│ lstm_1 (<span style=\"color: #0087ff; text-decoration-color: #0087ff\">LSTM</span>)                        │ (<span style=\"color: #00d7ff; text-decoration-color: #00d7ff\">None</span>, <span style=\"color: #00af00; text-decoration-color: #00af00\">64</span>)                  │          <span style=\"color: #00af00; text-decoration-color: #00af00\">33,024</span> │\n",
       "├──────────────────────────────────────┼─────────────────────────────┼─────────────────┤\n",
       "│ dense_2 (<span style=\"color: #0087ff; text-decoration-color: #0087ff\">Dense</span>)                      │ (<span style=\"color: #00d7ff; text-decoration-color: #00d7ff\">None</span>, <span style=\"color: #00af00; text-decoration-color: #00af00\">1</span>)                   │              <span style=\"color: #00af00; text-decoration-color: #00af00\">65</span> │\n",
       "├──────────────────────────────────────┼─────────────────────────────┼─────────────────┤\n",
       "│ dense_3 (<span style=\"color: #0087ff; text-decoration-color: #0087ff\">Dense</span>)                      │ (<span style=\"color: #00d7ff; text-decoration-color: #00d7ff\">None</span>, <span style=\"color: #00af00; text-decoration-color: #00af00\">1</span>)                   │               <span style=\"color: #00af00; text-decoration-color: #00af00\">2</span> │\n",
       "└──────────────────────────────────────┴─────────────────────────────┴─────────────────┘\n",
       "</pre>\n"
      ],
      "text/plain": [
       "┏━━━━━━━━━━━━━━━━━━━━━━━━━━━━━━━━━━━━━━┳━━━━━━━━━━━━━━━━━━━━━━━━━━━━━┳━━━━━━━━━━━━━━━━━┓\n",
       "┃\u001b[1m \u001b[0m\u001b[1mLayer (type)                        \u001b[0m\u001b[1m \u001b[0m┃\u001b[1m \u001b[0m\u001b[1mOutput Shape               \u001b[0m\u001b[1m \u001b[0m┃\u001b[1m \u001b[0m\u001b[1m        Param #\u001b[0m\u001b[1m \u001b[0m┃\n",
       "┡━━━━━━━━━━━━━━━━━━━━━━━━━━━━━━━━━━━━━━╇━━━━━━━━━━━━━━━━━━━━━━━━━━━━━╇━━━━━━━━━━━━━━━━━┩\n",
       "│ lstm (\u001b[38;5;33mLSTM\u001b[0m)                          │ (\u001b[38;5;45mNone\u001b[0m, \u001b[38;5;34m20\u001b[0m, \u001b[38;5;34m64\u001b[0m)              │          \u001b[38;5;34m25,088\u001b[0m │\n",
       "├──────────────────────────────────────┼─────────────────────────────┼─────────────────┤\n",
       "│ lstm_1 (\u001b[38;5;33mLSTM\u001b[0m)                        │ (\u001b[38;5;45mNone\u001b[0m, \u001b[38;5;34m64\u001b[0m)                  │          \u001b[38;5;34m33,024\u001b[0m │\n",
       "├──────────────────────────────────────┼─────────────────────────────┼─────────────────┤\n",
       "│ dense_2 (\u001b[38;5;33mDense\u001b[0m)                      │ (\u001b[38;5;45mNone\u001b[0m, \u001b[38;5;34m1\u001b[0m)                   │              \u001b[38;5;34m65\u001b[0m │\n",
       "├──────────────────────────────────────┼─────────────────────────────┼─────────────────┤\n",
       "│ dense_3 (\u001b[38;5;33mDense\u001b[0m)                      │ (\u001b[38;5;45mNone\u001b[0m, \u001b[38;5;34m1\u001b[0m)                   │               \u001b[38;5;34m2\u001b[0m │\n",
       "└──────────────────────────────────────┴─────────────────────────────┴─────────────────┘\n"
      ]
     },
     "metadata": {},
     "output_type": "display_data"
    },
    {
     "data": {
      "text/html": [
       "<pre style=\"white-space:pre;overflow-x:auto;line-height:normal;font-family:Menlo,'DejaVu Sans Mono',consolas,'Courier New',monospace\"><span style=\"font-weight: bold\"> Total params: </span><span style=\"color: #00af00; text-decoration-color: #00af00\">116,360</span> (454.54 KB)\n",
       "</pre>\n"
      ],
      "text/plain": [
       "\u001b[1m Total params: \u001b[0m\u001b[38;5;34m116,360\u001b[0m (454.54 KB)\n"
      ]
     },
     "metadata": {},
     "output_type": "display_data"
    },
    {
     "data": {
      "text/html": [
       "<pre style=\"white-space:pre;overflow-x:auto;line-height:normal;font-family:Menlo,'DejaVu Sans Mono',consolas,'Courier New',monospace\"><span style=\"font-weight: bold\"> Trainable params: </span><span style=\"color: #00af00; text-decoration-color: #00af00\">58,179</span> (227.26 KB)\n",
       "</pre>\n"
      ],
      "text/plain": [
       "\u001b[1m Trainable params: \u001b[0m\u001b[38;5;34m58,179\u001b[0m (227.26 KB)\n"
      ]
     },
     "metadata": {},
     "output_type": "display_data"
    },
    {
     "data": {
      "text/html": [
       "<pre style=\"white-space:pre;overflow-x:auto;line-height:normal;font-family:Menlo,'DejaVu Sans Mono',consolas,'Courier New',monospace\"><span style=\"font-weight: bold\"> Non-trainable params: </span><span style=\"color: #00af00; text-decoration-color: #00af00\">0</span> (0.00 B)\n",
       "</pre>\n"
      ],
      "text/plain": [
       "\u001b[1m Non-trainable params: \u001b[0m\u001b[38;5;34m0\u001b[0m (0.00 B)\n"
      ]
     },
     "metadata": {},
     "output_type": "display_data"
    },
    {
     "data": {
      "text/html": [
       "<pre style=\"white-space:pre;overflow-x:auto;line-height:normal;font-family:Menlo,'DejaVu Sans Mono',consolas,'Courier New',monospace\"><span style=\"font-weight: bold\"> Optimizer params: </span><span style=\"color: #00af00; text-decoration-color: #00af00\">58,181</span> (227.27 KB)\n",
       "</pre>\n"
      ],
      "text/plain": [
       "\u001b[1m Optimizer params: \u001b[0m\u001b[38;5;34m58,181\u001b[0m (227.27 KB)\n"
      ]
     },
     "metadata": {},
     "output_type": "display_data"
    }
   ],
   "source": [
    "def lstmModel(input_shapes):\n",
    "    model = Sequential()\n",
    "    model.add(Input(input_shapes))\n",
    "\n",
    "    model.add(LSTM(64, \n",
    "             return_sequences = True))\n",
    "    model.add(LSTM(64, \n",
    "                           return_sequences = False))\n",
    "    model.add(Dense(1))\n",
    "    \n",
    "    model.add(Dense(1))\n",
    "    \n",
    "    model.compile(optimizer = SGD(learning_rate=0.01,\n",
    "                                      momentum=0.9), \n",
    "                      loss = \"mean_squared_error\",\n",
    "                       )\n",
    "    return model\n",
    "\n",
    "\n",
    "model = lstmModel(input_shapes=(X_train.shape[1], X_train.shape[2]))\n",
    "model.fit(X_train, y_train, epochs = 30, batch_size = 8)\n",
    "model.summary()"
   ]
  },
  {
   "cell_type": "code",
   "execution_count": 15,
   "metadata": {
    "execution": {
     "iopub.execute_input": "2025-02-03T14:22:54.311603Z",
     "iopub.status.busy": "2025-02-03T14:22:54.311231Z",
     "iopub.status.idle": "2025-02-03T14:22:55.038259Z",
     "shell.execute_reply": "2025-02-03T14:22:55.037102Z",
     "shell.execute_reply.started": "2025-02-03T14:22:54.311563Z"
    },
    "trusted": true
   },
   "outputs": [
    {
     "name": "stdout",
     "output_type": "stream",
     "text": [
      "\u001b[1m3/3\u001b[0m \u001b[32m━━━━━━━━━━━━━━━━━━━━\u001b[0m\u001b[37m\u001b[0m \u001b[1m1s\u001b[0m 172ms/step\n",
      "{'R': 0.7087687801183724, 'RMSE': 0.6975343331441403, 'NSE': 0.4933406726198316, 'U95%': 1.3634297970623155}\n"
     ]
    }
   ],
   "source": [
    "y_pred_lstm = model.predict(X_test)\n",
    "y_pred_lstm = y_pred_lstm.flatten()\n",
    "results = metric(y_true, y_pred_lstm)\n",
    "print(results)"
   ]
  },
  {
   "cell_type": "code",
   "execution_count": 16,
   "metadata": {
    "execution": {
     "iopub.execute_input": "2025-02-03T14:22:55.040134Z",
     "iopub.status.busy": "2025-02-03T14:22:55.039538Z",
     "iopub.status.idle": "2025-02-03T14:22:55.367039Z",
     "shell.execute_reply": "2025-02-03T14:22:55.366013Z",
     "shell.execute_reply.started": "2025-02-03T14:22:55.040095Z"
    },
    "trusted": true
   },
   "outputs": [
    {
     "data": {
      "image/png": "[encoded data removed]",
      "text/plain": [
       "<Figure size 1000x600 with 1 Axes>"
      ]
     },
     "metadata": {},
     "output_type": "display_data"
    }
   ],
   "source": [
    "steps_ahead = [1, 3, 6, 12]\n",
    "rnn = [0.883523, 0.858308, 0.807032, 0.461608]\n",
    "gru = [0.867457, 0.840183, 0.829497, 0.636190]\n",
    "lstm = [0.987212, 0.979172, 0.967892, 0.975557]\n",
    "\n",
    "plt.figure(figsize=(10, 6))\n",
    "plt.plot(steps_ahead, rnn, marker='o', label='rnn', linestyle='-', color='blue')\n",
    "plt.plot(steps_ahead, gru, marker='s', label='gru', linestyle='-', color='green')\n",
    "plt.plot(steps_ahead, lstm, marker='^', label='lstm', linestyle='-', color='orange')\n",
    "\n",
    "plt.xlabel('Steps Ahead', fontsize=12)\n",
    "plt.ylabel('R Value', fontsize=12)\n",
    "plt.title('R Values Across Steps Ahead (1,3,6,12) months in Charlottertown', fontsize=14)\n",
    "plt.axhline(0, color='black', linewidth=0.8, linestyle='--')\n",
    "plt.legend(fontsize=10)\n",
    "plt.grid(True)\n",
    "plt.tight_layout()\n",
    "\n",
    "plt.show()"
   ]
  },
  {
   "cell_type": "code",
   "execution_count": 18,
   "metadata": {
    "execution": {
     "iopub.execute_input": "2025-02-03T14:25:30.733101Z",
     "iopub.status.busy": "2025-02-03T14:25:30.732475Z",
     "iopub.status.idle": "2025-02-03T14:25:31.070350Z",
     "shell.execute_reply": "2025-02-03T14:25:31.069092Z",
     "shell.execute_reply.started": "2025-02-03T14:25:30.733045Z"
    },
    "trusted": true
   },
   "outputs": [
    {
     "data": {
      "image/png": "[encoded data removed]",
      "text/plain": [
       "<Figure size 1000x600 with 1 Axes>"
      ]
     },
     "metadata": {},
     "output_type": "display_data"
    }
   ],
   "source": [
    "steps_ahead = [1, 3, 6, 12]\n",
    "rnn = [0.814459, 0.771653, 0.697347, 0.148052]\n",
    "gru = [0.829750, 0.725908, 0.722603, 0.151261]\n",
    "lstm = [0.984345, 0.974647, 0.956095, 0.708769]\n",
    "\n",
    "plt.figure(figsize=(10, 6))\n",
    "plt.plot(steps_ahead, rnn, marker='o', label='rnn', linestyle='-', color='blue')\n",
    "plt.plot(steps_ahead, gru, marker='s', label='gru', linestyle='-', color='green')\n",
    "plt.plot(steps_ahead, lstm, marker='^', label='lstm', linestyle='-', color='orange')\n",
    "\n",
    "plt.xlabel('Steps Ahead', fontsize=12)\n",
    "plt.ylabel('R Value', fontsize=12)\n",
    "plt.title('R Values Across Steps Ahead (1,3,6,12) months in Fredericton', fontsize=14)\n",
    "plt.axhline(0, color='black', linewidth=0.8, linestyle='--')\n",
    "plt.legend(fontsize=10)\n",
    "plt.grid(True)\n",
    "plt.tight_layout()\n",
    "\n",
    "plt.show()"
   ]
  }
 ],
 "metadata": {
  "kaggle": {
   "accelerator": "none",
   "dataSources": [
    {
     "datasetId": 6587330,
     "sourceId": 10639331,
     "sourceType": "datasetVersion"
    }
   ],
   "dockerImageVersionId": 30839,
   "isGpuEnabled": false,
   "isInternetEnabled": true,
   "language": "python",
   "sourceType": "notebook"
  },
  "kernelspec": {
   "display_name": "Python 3",
   "language": "python",
   "name": "python3"
  },
  "language_info": {
   "codemirror_mode": {
    "name": "ipython",
    "version": 3
   },
   "file_extension": ".py",
   "mimetype": "text/x-python",
   "name": "python",
   "nbconvert_exporter": "python",
   "pygments_lexer": "ipython3",
   "version": "3.10.12"
  }
 },
 "nbformat": 4,
 "nbformat_minor": 4
}
